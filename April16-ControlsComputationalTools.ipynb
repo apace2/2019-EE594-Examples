{
 "cells": [
  {
   "cell_type": "code",
   "execution_count": 1,
   "metadata": {},
   "outputs": [],
   "source": [
    "import numpy\n",
    "import cvxpy as cvx\n",
    "import control"
   ]
  },
  {
   "cell_type": "markdown",
   "metadata": {},
   "source": [
    "## Solving the (continuous) Lyapunov equation\n",
    "$$ A^TX +XA + Q = 0 $$\n",
    "\n",
    "Find $X>0$ (positive semi-definite) given $P,Q > 0$ and $A$ is Hurwitz (globally asymptotically stable)."
   ]
  },
  {
   "cell_type": "code",
   "execution_count": 2,
   "metadata": {},
   "outputs": [],
   "source": [
    "A = np.diag([-4, -5,-.01])\n",
    "# generate a random Hurwitz A matrix\n",
    "# sys = control.rss(3,1,1)\n",
    "# A = sys.A\n",
    "Q = np.diag([1,1,10])"
   ]
  },
  {
   "cell_type": "markdown",
   "metadata": {},
   "source": [
    "### Solve with python control system library\n",
    "(which calls `slycot`, which calls the Fortran library `slicot`)"
   ]
  },
  {
   "cell_type": "code",
   "execution_count": 3,
   "metadata": {},
   "outputs": [
    {
     "name": "stdout",
     "output_type": "stream",
     "text": [
      "[[1.25e-01 0.00e+00 0.00e+00]\n",
      " [0.00e+00 1.00e-01 0.00e+00]\n",
      " [0.00e+00 0.00e+00 5.00e+02]]\n"
     ]
    }
   ],
   "source": [
    "Xcontrol = control.lyap( A, Q )\n",
    "print(Xcontrol)"
   ]
  },
  {
   "cell_type": "markdown",
   "metadata": {},
   "source": [
    "### Solve as an LMI/SDP\n",
    "Problem already setup as an SDP!"
   ]
  },
  {
   "cell_type": "code",
   "execution_count": 4,
   "metadata": {},
   "outputs": [
    {
     "name": "stdout",
     "output_type": "stream",
     "text": [
      "[[1.25e-01 0.00e+00 0.00e+00]\n",
      " [0.00e+00 1.00e-01 0.00e+00]\n",
      " [0.00e+00 0.00e+00 5.00e+02]]\n"
     ]
    }
   ],
   "source": [
    "n = A.shape[0]\n",
    "# construct an nxn positive semi-definite matrix\n",
    "X = cvx.Variable( (n,n), PSD=True) \n",
    "# setup the constraint\n",
    "constr = [ A.T@X + X@A + Q == np.zeros((n,n))]\n",
    "# problem is a feasibility problem, objective unimportant\n",
    "obj = cvx.Minimize( None )\n",
    "prob = cvx.Problem( obj, constr)\n",
    "#solve with an SDP solver (in this case SCS)\n",
    "prob.solve()\n",
    "\n",
    "if prob.solution.status == 'infeasible':\n",
    "    raise RuntimeError(\"Problem is infeasible\")\n",
    "\n",
    "Xsdp = X.value\n",
    "print(Xsdp)"
   ]
  },
  {
   "cell_type": "markdown",
   "metadata": {},
   "source": [
    "Another way to specify a positive semidefinite matrix"
   ]
  },
  {
   "cell_type": "code",
   "execution_count": 5,
   "metadata": {},
   "outputs": [],
   "source": [
    "X = cvx.Variable( (n,n) )\n",
    "constr = [ X.T == X, X>> 0] # X is PSD\n",
    "constr.append( A.T@X + X@A + Q == np.zeros((n,n)) )\n",
    "obj = cvx.Minimize( None )\n",
    "prob = cvx.Problem( obj, constr)\n",
    "prob.solve();"
   ]
  },
  {
   "cell_type": "code",
   "execution_count": 6,
   "metadata": {},
   "outputs": [
    {
     "data": {
      "text/plain": [
       "array([[1.25e-01, 0.00e+00, 0.00e+00],\n",
       "       [0.00e+00, 1.00e-01, 0.00e+00],\n",
       "       [0.00e+00, 0.00e+00, 5.00e+02]])"
      ]
     },
     "execution_count": 6,
     "metadata": {},
     "output_type": "execute_result"
    }
   ],
   "source": [
    "X.value"
   ]
  },
  {
   "cell_type": "markdown",
   "metadata": {},
   "source": [
    "Another method of setting up the feasibility problem is as an optimization problem Dullerud and Paganini 2000 $\\S1.4$:\n",
    "\n",
    "$$\n",
    "\\text{min } t \\\\\n",
    "\\text{subject to } A^TX + XA +Q -tI \\le 0\n",
    "$$\n",
    "\n",
    "The original problem is feasible iff $t<0$.\n",
    "\n",
    "At least as specified, if the problem is already feasible, giving the above formulation to a solver is not bounded."
   ]
  },
  {
   "cell_type": "code",
   "execution_count": 7,
   "metadata": {},
   "outputs": [
    {
     "name": "stdout",
     "output_type": "stream",
     "text": [
      "None\n"
     ]
    }
   ],
   "source": [
    "X = cvx.Variable( (n,n) , PSD=True)\n",
    "t = cvx.Variable()\n",
    "I = np.identity(n)\n",
    "constr = [ A.T@X + X@A +Q -t*I << 0]\n",
    "obj = cvx.Minimize( t )\n",
    "prob = cvx.Problem(obj,constr)\n",
    "prob.solve()\n",
    "print(t.value)"
   ]
  },
  {
   "cell_type": "code",
   "execution_count": 8,
   "metadata": {},
   "outputs": [
    {
     "data": {
      "text/plain": [
       "'unbounded'"
      ]
     },
     "execution_count": 8,
     "metadata": {},
     "output_type": "execute_result"
    }
   ],
   "source": [
    "prob.solution.status"
   ]
  },
  {
   "cell_type": "markdown",
   "metadata": {},
   "source": [
    "Bounding $t$ returns a solution"
   ]
  },
  {
   "cell_type": "code",
   "execution_count": 9,
   "metadata": {},
   "outputs": [
    {
     "name": "stdout",
     "output_type": "stream",
     "text": [
      "-99.9999942531599\n"
     ]
    }
   ],
   "source": [
    "constr.append( t >= -100 )\n",
    "prob = cvx.Problem(obj,constr)\n",
    "prob.solve()\n",
    "print(t.value)"
   ]
  },
  {
   "cell_type": "code",
   "execution_count": 10,
   "metadata": {},
   "outputs": [
    {
     "data": {
      "text/plain": [
       "'optimal'"
      ]
     },
     "execution_count": 10,
     "metadata": {},
     "output_type": "execute_result"
    }
   ],
   "source": [
    "prob.solution.status"
   ]
  },
  {
   "cell_type": "markdown",
   "metadata": {},
   "source": [
    "### SDP approach not always the fastest\n",
    "In this case, a faster approach comes from linear algebra.\n",
    "See `slicot`:  https://github.com/KTH-AC/slicot/blob/master/src/SB03MD.f#L182"
   ]
  },
  {
   "cell_type": "code",
   "execution_count": 11,
   "metadata": {},
   "outputs": [],
   "source": [
    "n = 5 # dimension of problem\n",
    "np.random.seed(1) \n",
    "Q = np.diag( np.random.rand(n) * -1)"
   ]
  },
  {
   "cell_type": "code",
   "execution_count": 12,
   "metadata": {},
   "outputs": [],
   "source": [
    "#set random seed, both sets of A matrices are the same\n",
    "# for both tests\n",
    "np.random.seed(123)"
   ]
  },
  {
   "cell_type": "code",
   "execution_count": 13,
   "metadata": {},
   "outputs": [],
   "source": [
    "# setup a parameterized optimization problem\n",
    "# a cvx.Parameter can be changed without reconstructing the problem\n",
    "# useful in cases where the same optimization problem is used repeadetdly\n",
    "A = cvx.Parameter(shape=(n,n))\n",
    "X = cvx.Variable( (n,n), PSD=True) \n",
    "# setup the constraint\n",
    "constr = [ A.T@X + X@A + Q == np.zeros((n,n))]\n",
    "# problem is a feasibility problem, objective unimportant\n",
    "obj = cvx.Minimize( None )\n",
    "prob = cvx.Problem( obj, constr)"
   ]
  },
  {
   "cell_type": "markdown",
   "metadata": {},
   "source": [
    "`control.rss(n,i,o)` generates a stable random state space system with $n$ states, $i$ inputs, and $o$ outputs."
   ]
  },
  {
   "cell_type": "code",
   "execution_count": 14,
   "metadata": {},
   "outputs": [
    {
     "name": "stdout",
     "output_type": "stream",
     "text": [
      "25.1 ms ± 2.28 ms per loop (mean ± std. dev. of 7 runs, 100 loops each)\n"
     ]
    }
   ],
   "source": [
    "%%timeit\n",
    "A.value = control.rss(n,1,1).A\n",
    "prob.solve();"
   ]
  },
  {
   "cell_type": "code",
   "execution_count": 15,
   "metadata": {},
   "outputs": [],
   "source": [
    "# reset random seed\n",
    "np.random.seed(123)"
   ]
  },
  {
   "cell_type": "code",
   "execution_count": 16,
   "metadata": {},
   "outputs": [
    {
     "name": "stdout",
     "output_type": "stream",
     "text": [
      "435 µs ± 4.31 µs per loop (mean ± std. dev. of 7 runs, 1000 loops each)\n"
     ]
    }
   ],
   "source": [
    "%%timeit\n",
    "A = control.rss(n,1,1).A\n",
    "X = control.lyap( A, Q )"
   ]
  }
 ],
 "metadata": {
  "kernelspec": {
   "display_name": "Python 3",
   "language": "python",
   "name": "python3"
  },
  "language_info": {
   "codemirror_mode": {
    "name": "ipython",
    "version": 3
   },
   "file_extension": ".py",
   "mimetype": "text/x-python",
   "name": "python",
   "nbconvert_exporter": "python",
   "pygments_lexer": "ipython3",
   "version": "3.6.8"
  }
 },
 "nbformat": 4,
 "nbformat_minor": 2
}
