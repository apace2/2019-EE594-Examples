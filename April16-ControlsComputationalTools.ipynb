{
 "cells": [
  {
   "cell_type": "code",
   "execution_count": 1,
   "metadata": {},
   "outputs": [],
   "source": [
    "import numpy\n",
    "import cvxpy as cvx\n",
    "import control"
   ]
  },
  {
   "cell_type": "markdown",
   "metadata": {},
   "source": [
    "## Solving the (continuous) Lyapunov equation\n",
    "$$ A^TX +XA + Q = 0 $$\n",
    "\n",
    "Find $X>0$ (positive semi-definite) given $P,Q > 0$ and $A$ is Hurwitz (globally asymptotically stable)."
   ]
  },
  {
   "cell_type": "code",
   "execution_count": 2,
   "metadata": {},
   "outputs": [],
   "source": [
    "A = np.diag([-4, -5,-.01])\n",
    "Q = np.diag([1,1,10])"
   ]
  },
  {
   "cell_type": "markdown",
   "metadata": {},
   "source": [
    "### Solve with python control system library\n",
    "(which calls `slycot`, which calls the Fortran library `slicot`)"
   ]
  },
  {
   "cell_type": "code",
   "execution_count": 3,
   "metadata": {},
   "outputs": [
    {
     "name": "stdout",
     "output_type": "stream",
     "text": [
      "[[1.25e-01 0.00e+00 0.00e+00]\n",
      " [0.00e+00 1.00e-01 0.00e+00]\n",
      " [0.00e+00 0.00e+00 5.00e+02]]\n"
     ]
    }
   ],
   "source": [
    "Xcontrol = control.lyap( A, Q )\n",
    "print(Xcontrol)"
   ]
  },
  {
   "cell_type": "markdown",
   "metadata": {},
   "source": [
    "### Solve as an LMI/SDP\n",
    "Problem already setup as an SDP!"
   ]
  },
  {
   "cell_type": "code",
   "execution_count": 4,
   "metadata": {},
   "outputs": [
    {
     "name": "stdout",
     "output_type": "stream",
     "text": [
      "[[1.25e-01 0.00e+00 0.00e+00]\n",
      " [0.00e+00 1.00e-01 0.00e+00]\n",
      " [0.00e+00 0.00e+00 5.00e+02]]\n"
     ]
    }
   ],
   "source": [
    "n = A.shape[0]\n",
    "# construct an nxn positive semi-definite matrix\n",
    "X = cvx.Variable( (n,n), PSD=True) \n",
    "# setup the constraint\n",
    "constr = [ A.T@X + X@A + Q == np.zeros((n,n))]\n",
    "# problem is a feasibility problem, objective unimportant\n",
    "obj = cvx.Minimize( None )\n",
    "prob = cvx.Problem( obj, constr)\n",
    "#solve with an SDP solver (in this case SCS)\n",
    "prob.solve()\n",
    "\n",
    "if prob.solution.status == 'infeasible':\n",
    "    raise RuntimeError(\"Problem is infeasible\")\n",
    "\n",
    "Xsdp = X.value\n",
    "print(Xsdp)"
   ]
  },
  {
   "cell_type": "markdown",
   "metadata": {},
   "source": [
    "Another way to specify a positive semidefinite matrix"
   ]
  },
  {
   "cell_type": "code",
   "execution_count": 5,
   "metadata": {},
   "outputs": [],
   "source": [
    "X = cvx.Variable( (n,n) )\n",
    "constr = [ X.T == X, X>> 0] # X is PSD\n",
    "constr.append( A.T@X + X@A + Q == np.zeros((n,n)) )\n",
    "obj = cvx.Minimize( None )\n",
    "prob = cvx.Problem( obj, constr)\n",
    "prob.solve();"
   ]
  },
  {
   "cell_type": "code",
   "execution_count": 6,
   "metadata": {},
   "outputs": [
    {
     "data": {
      "text/plain": [
       "array([[1.25e-01, 0.00e+00, 0.00e+00],\n",
       "       [0.00e+00, 1.00e-01, 0.00e+00],\n",
       "       [0.00e+00, 0.00e+00, 5.00e+02]])"
      ]
     },
     "execution_count": 6,
     "metadata": {},
     "output_type": "execute_result"
    }
   ],
   "source": [
    "X.value"
   ]
  },
  {
   "cell_type": "markdown",
   "metadata": {},
   "source": [
    "Another method of setting up the feasibility problem\n",
    "\n",
    "$$\n",
    "\\text{min } t \\\\\n",
    "\\text{subject to } A^TX + XA +Q -tI \\le 0\n",
    "$$\n",
    "\n",
    "The original problem is feasible iff $t<0$.\n",
    "\n",
    "At least as specified in the book, if the problem is already feasible, giving the above formulation to a solver is not bounded."
   ]
  },
  {
   "cell_type": "code",
   "execution_count": 7,
   "metadata": {},
   "outputs": [
    {
     "name": "stdout",
     "output_type": "stream",
     "text": [
      "-1000.0020908125807\n"
     ]
    }
   ],
   "source": [
    "X = cvx.Variable( (n,n) , PSD=True)\n",
    "t = cvx.Variable()\n",
    "I = np.identity(n)\n",
    "constr = [ A.T@X + X@A +Q -t*I << 0, t>= -1000]\n",
    "obj = cvx.Minimize( t )\n",
    "prob = cvx.Problem(obj,constr)\n",
    "prob.solve()\n",
    "print(t.value)"
   ]
  },
  {
   "cell_type": "code",
   "execution_count": 8,
   "metadata": {},
   "outputs": [
    {
     "data": {
      "text/plain": [
       "'optimal'"
      ]
     },
     "execution_count": 8,
     "metadata": {},
     "output_type": "execute_result"
    }
   ],
   "source": [
    "prob.solution.status"
   ]
  },
  {
   "cell_type": "markdown",
   "metadata": {},
   "source": [
    "### SDP approach is slower than the linear algebra approach\n",
    "`slicot` approach:  https://github.com/KTH-AC/slicot/blob/master/src/SB03MD.f#L182"
   ]
  },
  {
   "cell_type": "code",
   "execution_count": 9,
   "metadata": {},
   "outputs": [
    {
     "name": "stdout",
     "output_type": "stream",
     "text": [
      "9.86 ms ± 223 µs per loop (mean ± std. dev. of 7 runs, 100 loops each)\n"
     ]
    }
   ],
   "source": [
    "%%timeit\n",
    "prob.solve();"
   ]
  },
  {
   "cell_type": "code",
   "execution_count": 10,
   "metadata": {},
   "outputs": [
    {
     "name": "stdout",
     "output_type": "stream",
     "text": [
      "28.7 µs ± 2.26 µs per loop (mean ± std. dev. of 7 runs, 10000 loops each)\n"
     ]
    }
   ],
   "source": [
    "%%timeit\n",
    "control.lyap( A, Q )"
   ]
  }
 ],
 "metadata": {
  "kernelspec": {
   "display_name": "Python 3",
   "language": "python",
   "name": "python3"
  },
  "language_info": {
   "codemirror_mode": {
    "name": "ipython",
    "version": 3
   },
   "file_extension": ".py",
   "mimetype": "text/x-python",
   "name": "python",
   "nbconvert_exporter": "python",
   "pygments_lexer": "ipython3",
   "version": "3.6.8"
  }
 },
 "nbformat": 4,
 "nbformat_minor": 2
}
