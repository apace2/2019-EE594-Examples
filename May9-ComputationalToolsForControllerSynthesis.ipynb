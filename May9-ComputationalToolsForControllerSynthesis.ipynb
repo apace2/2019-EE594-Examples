{
 "cells": [
  {
   "cell_type": "markdown",
   "metadata": {},
   "source": [
    "Documentation for `h2syn` and `hinfsyn` are currently a little sparse in the python `control` module. \n",
    "Looking at the comments for the underlying slicot function provides some help.\n",
    "\n",
    "* `h2syn`\n",
    " * Octave documentation: https://octave.sourceforge.io/control/function/h2syn.html\n",
    " * slicot function: http://slicot.org/objects/software/shared/doc/SB10HD.html\n",
    " \n",
    "* `hinfsyn`\n",
    " * octave documentation: https://octave.sourceforge.io/control/function/hinfsyn.html\n",
    " * slicot function: http://slicot.org/objects/software/shared/doc/SB10AD.html\n",
    " \n",
    "The Octave documentation for both functions calls the same slicot function as control (and some additional ones)."
   ]
  },
  {
   "cell_type": "markdown",
   "metadata": {},
   "source": [
    "A simple observable controlable 1st order system."
   ]
  },
  {
   "cell_type": "code",
   "execution_count": 1,
   "metadata": {},
   "outputs": [],
   "source": [
    "import control\n",
    "import numpy as np"
   ]
  },
  {
   "cell_type": "code",
   "execution_count": 2,
   "metadata": {},
   "outputs": [
    {
     "data": {
      "text/plain": [
       "A = [[-1]]\n",
       "\n",
       "B = [[1]]\n",
       "\n",
       "C = [[1]]\n",
       "\n",
       "D = [[0]]"
      ]
     },
     "execution_count": 2,
     "metadata": {},
     "output_type": "execute_result"
    }
   ],
   "source": [
    "A = np.array([-1])\n",
    "B = np.array([[1]])\n",
    "C = np.array([[1]])\n",
    "D = np.array([[0]])\n",
    "P = control.ss(A,B,C,D)\n",
    "P"
   ]
  },
  {
   "cell_type": "markdown",
   "metadata": {},
   "source": [
    "## $H_2$ synthesis"
   ]
  },
  {
   "cell_type": "markdown",
   "metadata": {},
   "source": [
    "Modify the plant so $H_2$ controller synthesis generates the LQG controller, from 9.3.3 pg 389 of [1].\n",
    "\n",
    "[1] Skogestad and Postlethwaite 1996, _Multivariable Feedback Control_."
   ]
  },
  {
   "cell_type": "markdown",
   "metadata": {},
   "source": [
    "Assume unitary weight functions ($Q,R$) and noise:"
   ]
  },
  {
   "cell_type": "code",
   "execution_count": 3,
   "metadata": {},
   "outputs": [],
   "source": [
    "B1 = np.array([[1, 0]])\n",
    "C1 = np.array([[1],[0]])\n",
    "D11 = np.zeros((2,2))\n",
    "D12 = np.array([[0],[1]])\n",
    "D21 = np.array([[0,1]])"
   ]
  },
  {
   "cell_type": "code",
   "execution_count": 4,
   "metadata": {},
   "outputs": [
    {
     "data": {
      "text/plain": [
       "A = [[-1]]\n",
       "\n",
       "B = [[1 0 1]]\n",
       "\n",
       "C = [[1]\n",
       " [0]\n",
       " [1]]\n",
       "\n",
       "D = [[0. 0. 0.]\n",
       " [0. 0. 1.]\n",
       " [0. 1. 0.]]"
      ]
     },
     "execution_count": 4,
     "metadata": {},
     "output_type": "execute_result"
    }
   ],
   "source": [
    "P_h = control.ss(A, np.hstack([B1,B]), np.vstack([C1,C]), \n",
    "                 np.block([[D11,D12], [D21,D]]))\n",
    "P_h"
   ]
  },
  {
   "cell_type": "code",
   "execution_count": 5,
   "metadata": {},
   "outputs": [
    {
     "data": {
      "text/plain": [
       "A = [[-1.82842712]]\n",
       "\n",
       "B = [[0.41421356]]\n",
       "\n",
       "C = [[-0.41421356]]\n",
       "\n",
       "D = [[0.]]"
      ]
     },
     "execution_count": 5,
     "metadata": {},
     "output_type": "execute_result"
    }
   ],
   "source": [
    "K_H2 = control.h2syn(P_h,1,1)\n",
    "K_H2"
   ]
  },
  {
   "cell_type": "markdown",
   "metadata": {},
   "source": [
    "Compare with `lqr`."
   ]
  },
  {
   "cell_type": "code",
   "execution_count": 6,
   "metadata": {},
   "outputs": [
    {
     "data": {
      "text/plain": [
       "array([[0.41421356]])"
      ]
     },
     "execution_count": 6,
     "metadata": {},
     "output_type": "execute_result"
    }
   ],
   "source": [
    "K_statefeedback,_,_ = control.lqr(P.A, P.B,1,1)\n",
    "K_statefeedback"
   ]
  },
  {
   "cell_type": "markdown",
   "metadata": {},
   "source": [
    "Sign difference between `K_statefeedback` from `lqr` and `K_h2.C` as `lqr` assumes negative feedback."
   ]
  },
  {
   "cell_type": "markdown",
   "metadata": {},
   "source": [
    "## $H_\\infty$ synthesis"
   ]
  },
  {
   "cell_type": "code",
   "execution_count": 7,
   "metadata": {},
   "outputs": [],
   "source": [
    "K_Hoo,CL,gam_nom,rcond_nom = control.hinfsyn(P_h,1,1)"
   ]
  },
  {
   "cell_type": "markdown",
   "metadata": {},
   "source": [
    "Controller:"
   ]
  },
  {
   "cell_type": "code",
   "execution_count": 8,
   "metadata": {},
   "outputs": [
    {
     "data": {
      "text/plain": [
       "A = [[-23451938.14311943]]\n",
       "\n",
       "B = [[0.7320508]]\n",
       "\n",
       "C = [[-23451937.77709401]]\n",
       "\n",
       "D = [[0.]]"
      ]
     },
     "execution_count": 8,
     "metadata": {},
     "output_type": "execute_result"
    }
   ],
   "source": [
    "K_Hoo"
   ]
  },
  {
   "cell_type": "markdown",
   "metadata": {},
   "source": [
    "Closed loop system $H_\\infty$:"
   ]
  },
  {
   "cell_type": "code",
   "execution_count": 9,
   "metadata": {},
   "outputs": [
    {
     "data": {
      "text/plain": [
       "A = [[-1.00000000e+00 -2.34519378e+07]\n",
       " [ 7.32050799e-01 -2.34519381e+07]]\n",
       "\n",
       "B = [[1.        0.       ]\n",
       " [0.        0.7320508]]\n",
       "\n",
       "C = [[ 1.00000000e+00  0.00000000e+00]\n",
       " [ 0.00000000e+00 -2.34519378e+07]]\n",
       "\n",
       "D = [[0. 0.]\n",
       " [0. 0.]]"
      ]
     },
     "execution_count": 9,
     "metadata": {},
     "output_type": "execute_result"
    }
   ],
   "source": [
    "CL"
   ]
  },
  {
   "cell_type": "markdown",
   "metadata": {},
   "source": [
    "$H_\\infty$ norm of the closed loop system"
   ]
  },
  {
   "cell_type": "code",
   "execution_count": 10,
   "metadata": {},
   "outputs": [
    {
     "data": {
      "text/plain": [
       "0.7320508099833613"
      ]
     },
     "execution_count": 10,
     "metadata": {},
     "output_type": "execute_result"
    }
   ],
   "source": [
    "gam_nom"
   ]
  },
  {
   "cell_type": "markdown",
   "metadata": {},
   "source": [
    "### Changing Control Authority\n",
    "\n",
    "For fun, what happens when the control authority is reduced?"
   ]
  },
  {
   "cell_type": "code",
   "execution_count": 11,
   "metadata": {},
   "outputs": [],
   "source": [
    "C = np.array([[.001]])"
   ]
  },
  {
   "cell_type": "markdown",
   "metadata": {},
   "source": [
    "The system remains controlable ($C$ still has rank 1)."
   ]
  },
  {
   "cell_type": "code",
   "execution_count": 12,
   "metadata": {},
   "outputs": [],
   "source": [
    "P_h = control.ss(A, np.hstack([B1,B]), np.vstack([C1,C]), \n",
    "                 np.block([[D11,D12], [D21,D]]))"
   ]
  },
  {
   "cell_type": "code",
   "execution_count": 13,
   "metadata": {},
   "outputs": [],
   "source": [
    "K_Hoo,CL,gam_red,rcond_red = control.hinfsyn(P_h,1,1)"
   ]
  },
  {
   "cell_type": "markdown",
   "metadata": {},
   "source": [
    "The returned optimal $H_\\infty$ controller is barely contractive."
   ]
  },
  {
   "cell_type": "code",
   "execution_count": 14,
   "metadata": {},
   "outputs": [
    {
     "data": {
      "text/plain": [
       "0.9999995048955715"
      ]
     },
     "execution_count": 14,
     "metadata": {},
     "output_type": "execute_result"
    }
   ],
   "source": [
    "gam_red"
   ]
  },
  {
   "cell_type": "markdown",
   "metadata": {},
   "source": [
    "What happens when the control authority increases?"
   ]
  },
  {
   "cell_type": "code",
   "execution_count": 15,
   "metadata": {},
   "outputs": [],
   "source": [
    "C = np.array([[100]])\n",
    "P_h = control.ss(A, np.hstack([B1,B]), np.vstack([C1,C]), \n",
    "                 np.block([[D11,D12], [D21,D]]))\n",
    "K_Hoo,CL,gam_inc,rcond_inc = control.hinfsyn(P_h,1,1)"
   ]
  },
  {
   "cell_type": "markdown",
   "metadata": {},
   "source": [
    "The returned controller has improved $H_\\infty$ gain."
   ]
  },
  {
   "cell_type": "code",
   "execution_count": 16,
   "metadata": {
    "scrolled": true
   },
   "outputs": [
    {
     "data": {
      "text/plain": [
       "0.7071067870690273"
      ]
     },
     "execution_count": 16,
     "metadata": {},
     "output_type": "execute_result"
    }
   ],
   "source": [
    "gam_inc"
   ]
  }
 ],
 "metadata": {
  "kernelspec": {
   "display_name": "Python 3",
   "language": "python",
   "name": "python3"
  },
  "language_info": {
   "codemirror_mode": {
    "name": "ipython",
    "version": 3
   },
   "file_extension": ".py",
   "mimetype": "text/x-python",
   "name": "python",
   "nbconvert_exporter": "python",
   "pygments_lexer": "ipython3",
   "version": "3.6.8"
  },
  "toc": {
   "base_numbering": 1,
   "nav_menu": {},
   "number_sections": true,
   "sideBar": true,
   "skip_h1_title": false,
   "title_cell": "Table of Contents",
   "title_sidebar": "Contents",
   "toc_cell": false,
   "toc_position": {},
   "toc_section_display": true,
   "toc_window_display": false
  }
 },
 "nbformat": 4,
 "nbformat_minor": 2
}
