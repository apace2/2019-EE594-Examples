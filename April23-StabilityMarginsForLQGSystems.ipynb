{
 "cells": [
  {
   "cell_type": "markdown",
   "metadata": {},
   "source": [
    "Computational use of the `controls` module implementing the example given in [1].\n",
    "\n",
    "[1] Doyle, John. \"Guaranteed Margins for LQG Regulators,\" IEEE Transactions on Automatic Control, 1978"
   ]
  },
  {
   "cell_type": "code",
   "execution_count": 1,
   "metadata": {},
   "outputs": [],
   "source": [
    "import control\n",
    "import numpy\n",
    "import math"
   ]
  },
  {
   "cell_type": "code",
   "execution_count": 2,
   "metadata": {},
   "outputs": [],
   "source": [
    "A = np.array([ [1,1], [0,1]])\n",
    "Bu = np.array([ [0,1] ]).T\n",
    "Bw = np.array([ [1,1] ]).T\n",
    "C = np.array([[1,0]])"
   ]
  },
  {
   "cell_type": "code",
   "execution_count": 3,
   "metadata": {},
   "outputs": [],
   "source": [
    "q =1\n",
    "sigma = 1.0\n",
    "Q = q*np.array([[1, 1]]).T@np.array([[1,1]])\n",
    "# This controller Q feels arbitray to me, but may have been choosen\n",
    "# to mimic the \n",
    "# Q for observer design\n",
    "R = 1"
   ]
  },
  {
   "cell_type": "code",
   "execution_count": 4,
   "metadata": {},
   "outputs": [],
   "source": [
    "# state feedback gain\n",
    "g,_,_ = control.lqr(A,Bu,Q,R)\n",
    "g=g.T\n",
    "# equivalent to \n",
    "# X,_,_=control.care(A,Bu,Q,R)\n",
    "# g = X@Bu@np.linalg.inv(R)\n",
    "\n",
    "# observer gain\n",
    "k,_,_ = control.lqr(A.T,C.T,Bw@Bw.T*sigma,R)\n",
    "k=k.T"
   ]
  },
  {
   "cell_type": "code",
   "execution_count": 5,
   "metadata": {},
   "outputs": [],
   "source": [
    "# closed form gains from [1]\n",
    "#f = 2+math.sqrt(4+q)\n",
    "#d = 2+math.sqrt(4+sigma)\n",
    "#\n",
    "#g = f*np.array([1,1])[:,np.newaxis]\n",
    "#k = d*np.array([1,1])[:,np.newaxis]"
   ]
  },
  {
   "cell_type": "markdown",
   "metadata": {},
   "source": [
    "Setup system as two interconnected systems"
   ]
  },
  {
   "cell_type": "code",
   "execution_count": 6,
   "metadata": {},
   "outputs": [],
   "source": [
    "plant = control.ss( A, Bu, C, 0 )"
   ]
  },
  {
   "cell_type": "markdown",
   "metadata": {},
   "source": [
    "Observer\n",
    "$$\n",
    "\\begin{align}\n",
    "u &= -G\\hat{x}\\\\\n",
    "\\dot{\\hat{x}} &= A \\hat{x} + Bu + -K(\\hat{y}-y)\\\\\n",
    "&= (A-BG-KC)\\hat{x} + Ky\n",
    "\\end{align}\n",
    "$$"
   ]
  },
  {
   "cell_type": "code",
   "execution_count": 7,
   "metadata": {},
   "outputs": [],
   "source": [
    "obs = control.ss( A-Bu@g.T-k@C, k, -g.T, np.zeros((1,1)))"
   ]
  },
  {
   "cell_type": "code",
   "execution_count": 8,
   "metadata": {},
   "outputs": [],
   "source": [
    "system = control.feedback(plant,obs,sign=1)"
   ]
  },
  {
   "cell_type": "code",
   "execution_count": 9,
   "metadata": {},
   "outputs": [
    {
     "data": {
      "text/plain": [
       "matrix([[ 1.        ,  1.        ,  0.        ,  0.        ],\n",
       "        [ 0.        ,  1.        , -4.23606798, -4.23606798],\n",
       "        [ 4.23606798,  0.        , -3.23606798,  1.        ],\n",
       "        [ 4.23606798,  0.        , -8.47213595, -3.23606798]])"
      ]
     },
     "execution_count": 9,
     "metadata": {},
     "output_type": "execute_result"
    }
   ],
   "source": [
    "system.A"
   ]
  },
  {
   "cell_type": "markdown",
   "metadata": {},
   "source": [
    "Closed loop system is stable."
   ]
  },
  {
   "cell_type": "code",
   "execution_count": 10,
   "metadata": {},
   "outputs": [
    {
     "data": {
      "text/plain": [
       "array([-1.61803423, -1.61803375, -0.61803421, -0.61803377])"
      ]
     },
     "execution_count": 10,
     "metadata": {},
     "output_type": "execute_result"
    }
   ],
   "source": [
    "np.linalg.eigvals(system.A)"
   ]
  },
  {
   "cell_type": "code",
   "execution_count": 11,
   "metadata": {},
   "outputs": [],
   "source": [
    "#perturbed system\n",
    "m = 1.1\n",
    "# m*plant is a gain of m on the input of the system plant\n",
    "perturbed_system = control.feedback(m*plant, obs, sign=1)"
   ]
  },
  {
   "cell_type": "markdown",
   "metadata": {},
   "source": [
    "Closed loop system is no longer stable."
   ]
  },
  {
   "cell_type": "code",
   "execution_count": 12,
   "metadata": {},
   "outputs": [
    {
     "data": {
      "text/plain": [
       "array([-3.0756458 +0.j        , -0.74371711+1.51229927j,\n",
       "       -0.74371711-1.51229927j,  0.09094406+0.j        ])"
      ]
     },
     "execution_count": 12,
     "metadata": {},
     "output_type": "execute_result"
    }
   ],
   "source": [
    "np.linalg.eigvals(perturbed_system.A)"
   ]
  }
 ],
 "metadata": {
  "kernelspec": {
   "display_name": "Python 3",
   "language": "python",
   "name": "python3"
  },
  "language_info": {
   "codemirror_mode": {
    "name": "ipython",
    "version": 3
   },
   "file_extension": ".py",
   "mimetype": "text/x-python",
   "name": "python",
   "nbconvert_exporter": "python",
   "pygments_lexer": "ipython3",
   "version": "3.6.8"
  }
 },
 "nbformat": 4,
 "nbformat_minor": 2
}
